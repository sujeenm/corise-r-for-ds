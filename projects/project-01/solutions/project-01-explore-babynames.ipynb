{
 "cells": [
  {
   "cell_type": "raw",
   "id": "c40d69e6",
   "metadata": {},
   "source": [
    "---\n",
    "output: github_document\n",
    "---"
   ]
  },
  {
   "cell_type": "markdown",
   "id": "6ea98c12",
   "metadata": {
    "lines_to_next_cell": 0
   },
   "source": []
  },
  {
   "cell_type": "code",
   "execution_count": null,
   "id": "09547d7f",
   "metadata": {
    "message": false,
    "name": "setup",
    "tags": [
     "remove_cell"
    ]
   },
   "outputs": [],
   "source": [
    "knitr::opts_chunk$set(\n",
    "  echo = TRUE,\n",
    "  comment = \"#>\",\n",
    "  fig.path = \"img/\",\n",
    "  fig.retina = 2,\n",
    "  fig.width = 6,\n",
    "  fig.asp = 9/16,\n",
    "  fig.pos = \"t\",\n",
    "  fig.align = \"center\",\n",
    "  # dpi = if (knitr::is_latex_output()) 72 else 150,\n",
    "  out.width = \"100%\",\n",
    "  # dev = \"svg\",\n",
    "  dev.args = list(png = list(type = \"cairo-png\")),\n",
    "  optipng = \"-o1 -quiet\"\n",
    ")"
   ]
  },
  {
   "cell_type": "markdown",
   "id": "204dc94d",
   "metadata": {},
   "source": [
    "## Exploring 100+ Years of US Baby Names\n",
    "\n",
    "In this project, we will explore 100+ years of US Baby Names. Although this dataset only has 4 columns, there are so many interesting  questions one could explore. While the possibilities are endless, here are five interesting questions for you to explore.\n",
    "\n",
    "1. Popular Names: What are the most popular names?\n",
    "2. Trendy Names: What are trendy names?\n",
    "3. Popular Letters: What are the most popular letters in names?\n",
    "4. Popular Letter Combinations: What are the most popular letter combinations?\n",
    "5. Vowels vs Consonants: Are there naming trends in usage of vowels and consonants?\n",
    "\n",
    "You need to complete at least the first three questions. The last two questions are optional."
   ]
  },
  {
   "cell_type": "markdown",
   "id": "8be054f8",
   "metadata": {},
   "source": [
    "### Import\n",
    "Let us start by importing the data from `data/names.csv.gz`. You can use the `read_csv` function from the `readr` package to do this."
   ]
  },
  {
   "cell_type": "code",
   "execution_count": null,
   "id": "3379d06e",
   "metadata": {
    "lines_to_next_cell": 0,
    "message": false,
    "name": "import-data"
   },
   "outputs": [],
   "source": [
    "# Load the tidyverse package\n",
    "library(tidyverse)\n",
    "\n",
    "# Read the csv file `file_name_names` as data frame `tbl_names`\n",
    "file_name_names <- here::here(\"data/names.csv.gz\")\n",
    "tbl_names <- readr::read_csv(\n",
    "  file = file_name_names, \n",
    "  show_col_types = FALSE\n",
    ")\n",
    "\n",
    "# Print `tbl_names`\n",
    "tbl_names"
   ]
  },
  {
   "cell_type": "markdown",
   "id": "cb74ca06",
   "metadata": {},
   "source": [
    "### Question 1: [Popular Names] What are the most popular names?\n",
    "\n",
    "One of the first things we want to do is to understand naming trends. Let us \n",
    "start by figuring out the top five most popular male and female names for this \n",
    "decade (born 2011 and after, but before 2021). Do you want to make any guesses?  \n",
    "\n",
    "#### Transform\n",
    "\n",
    "The first step is always to transform the data into a form that is easy to visualize. If we create a table with `sex`, `name` and `nb_births` for the top 5 names for each `sex`, then we can turn it into a column plot using `ggplot2`. Let us get the five most popular male and female names of the decade starting in 2011.\n"
   ]
  },
  {
   "cell_type": "code",
   "execution_count": null,
   "id": "f0dade1a",
   "metadata": {
    "name": "question-1-transform"
   },
   "outputs": [],
   "source": [
    "tbl_names_popular = tbl_names |> \n",
    "  # Keep ROWS for year > 2010 and <= 2020\n",
    "  filter(year > 2010, year <= 2020) |> \n",
    "  # Group by sex and name\n",
    "  group_by(sex, name) |> \n",
    "  # Summarize the number of births\n",
    "  summarize(\n",
    "    nb_births = sum(nb_births),\n",
    "    .groups = \"drop\"\n",
    "  ) |> \n",
    "  # Group by sex \n",
    "  group_by(sex) |>  \n",
    "  # For each sex, keep the top 5 rows by number of births\n",
    "  slice_max(nb_births, n = 5)\n",
    "\n",
    "tbl_names_popular"
   ]
  },
  {
   "cell_type": "markdown",
   "id": "b6581813",
   "metadata": {},
   "source": [
    "#### Visualize\n",
    "\n",
    "Let us now visualize this data as a horizontal bar plot of number of births by name faceted by sex.\n",
    "\n",
    "Here, when thinking about how we might label this table, look back to the statement of the question. Make sure to use this information in a way so that the title, subtitle, and caption provide your reader with concise, descriptive language so that viewers can quickly grasp the plot's purpose and findings."
   ]
  },
  {
   "cell_type": "code",
   "execution_count": null,
   "id": "fd41a7d4",
   "metadata": {
    "name": "question-1-visualize"
   },
   "outputs": [],
   "source": [
    "tbl_names_popular |> \n",
    "  # Reorder the names by number of births\n",
    "  mutate(name = fct_reorder(name, nb_births)) |>\n",
    "  # Initialize a ggplot for name vs. nb_births\n",
    "  ggplot(aes(x = nb_births, y = name)) +\n",
    "  # Add a column plot layer\n",
    "  geom_col() +\n",
    "  # Facet the plots by sex\n",
    "  facet_wrap(~ sex, scales = \"free_y\") +\n",
    "  # Add labels (title, subtitle, caption, x, y)\n",
    "  labs(\n",
    "    title = 'Most Popular Names of the Decade',\n",
    "    subtitle = 'Emma and Noah are the most popular names of the decade',\n",
    "    caption = 'Source: SSA',\n",
    "    x = '# Births',\n",
    "    y = NULL\n",
    "  ) +\n",
    "  # Fix the x-axis scale \n",
    "  scale_x_continuous(\n",
    "    labels = scales::unit_format(scale = 1e-3, unit = \"K\"),\n",
    "    expand = c(0, 0),\n",
    "  ) +\n",
    "  # Move the plot title to top left\n",
    "  theme(\n",
    "    plot.title.position = 'plot'\n",
    "  )"
   ]
  },
  {
   "cell_type": "markdown",
   "id": "afea73b0",
   "metadata": {},
   "source": [
    "### Question 2: [Trendy Names] What are trendy names?\n",
    "\n",
    "Consider the following two names `Elizabeth` and `Deneen`. `Elizabeth` is a \n",
    "fairly stable name, while `Deneen` is not, when one looks at trends. An interesting question to ask would be what are the top 5 stable and top 5 \n",
    "trendiest names. A stable name is one whose numbers across years don't vary drastically, while a trendy name is one whose popularity peaks for a short period \n",
    "and then dies down.\n",
    "\n",
    "There are many ways to capture trendiness. A simple measure would be to look at the maximum number of births for a name, normalized by the sum of \n",
    "of births across years. A trendy name would have a high value.\n",
    "\n",
    "Let us use this idea to figure out the top 10 trendy names in this data set. Let\n",
    "us use a cutoff of at least a 1000 births across all the years, so we don't pick up low-volume names. Feel free to experiment with this threshold as you see fit.\n",
    "\n",
    "#### Transform\n",
    "\n",
    "We need to transform the data into a table that consists of the columns `sex`, `name`, `nb_births_total`, `nb_births_max` and `trendiness`. We compute \n",
    "`nb_births_total` as the total number of births across all years, and `nb_births_max` as the maximum number of births for a given name across all years. Finally, we compute trendiness as a ratio of these two numbers. Follow the recipe outlined below to carry out the transformation.\n"
   ]
  },
  {
   "cell_type": "code",
   "execution_count": null,
   "id": "f588257f",
   "metadata": {
    "name": "question-2-transform"
   },
   "outputs": [],
   "source": [
    "tbl_names_popular_trendy = tbl_names |> \n",
    "  # Group by sex and name\n",
    "  group_by(sex, name) |> \n",
    "  # Summarize total number of births and max births in a year\n",
    "  summarize(\n",
    "    nb_births_total = sum(nb_births),\n",
    "    nb_births_max = max(nb_births),\n",
    "    .groups = \"drop\"\n",
    "  ) |> \n",
    "  # Filter for names with at least 10000 births\n",
    "  filter(nb_births_total > 1000) |> \n",
    "  # Add a column for trendiness computed as ratio of max to total\n",
    "  mutate(trendiness = nb_births_max / nb_births_total) |> \n",
    "  # Group by sex\n",
    "  group_by(sex) |> \n",
    "  # Slice top 5 rows by trendiness for each group\n",
    "  slice_max(trendiness, n = 5)\n",
    "\n",
    "tbl_names_popular_trendy"
   ]
  },
  {
   "cell_type": "markdown",
   "id": "27b2a3c2",
   "metadata": {},
   "source": [
    "----\n",
    "**Note**\n",
    "\n",
    "There are always several different approaches to the same transformation. When it comes to learning, there's no one-size-fits-all solution. One way to make your learning stick is by trying to solve a problem in different ways. Even if you don't get to the final answer, you will learn a lot by exploring different approaches.\n",
    "----\n",
    "\n",
    "#### Visualize\n",
    "\n",
    "Let us write a function that will accept a name as an argument and return a plot with trends in number of births. We can then use this function to plot the trends for different names."
   ]
  },
  {
   "cell_type": "code",
   "execution_count": null,
   "id": "17423bd5",
   "metadata": {
    "lines_to_next_cell": 2,
    "name": "question-2-visualize"
   },
   "outputs": [],
   "source": [
    "plot_trends_in_name <- function(my_name) {\n",
    "  tbl_names |> \n",
    "    # Filter for name = my_name\n",
    "    filter(name == my_name) |> \n",
    "    # Initialize a ggplot of `nb_births` vs. `year` colored by `sex`\n",
    "    ggplot(aes(x = year, y = nb_births, color = sex)) +\n",
    "    # Add a line layer\n",
    "    geom_line() +\n",
    "    # Add labels (title, x, y)\n",
    "    labs(\n",
    "      title = glue::glue(\"Babies named {my_name} across the years!\"),\n",
    "      x = 'Number of Births',\n",
    "      y = 'Birth Year'\n",
    "    ) +\n",
    "    # Update plot theme\n",
    "    theme(plot.title.position = \"plot\")\n",
    "}\n",
    "plot_trends_in_name(\"Steve\")"
   ]
  },
  {
   "cell_type": "markdown",
   "id": "28177052",
   "metadata": {},
   "source": [
    "### Question 3: [Popular Letters] What are the most popular letters in names?\n",
    "\n",
    "Have you ever wondered why some letters seem to be more prevalent in names than others? In this question, you will embark on a journey to uncover the reasons behind the popularity of specific letters in names. This investigation will lead you to interesting insights about how the popularity of letters in names has changed over time and the potential factors that have influenced these trends.\n",
    "\n",
    "1. How have the first and last letters in names changed over the years by sex?\n",
    "2. What are the trends in percentage of names with a given first or last letter across years.\n",
    "3. What are the most popular combinations of first and last letters?"
   ]
  },
  {
   "cell_type": "markdown",
   "id": "fe470586",
   "metadata": {},
   "source": [
    "#### Transform\n",
    "\n",
    "Let us start by transforming the data and adding two columns, one for `first_letter` and one for `last_letter`. You can use the `str_sub()` function from the `stringr` package to do this.\n"
   ]
  },
  {
   "cell_type": "code",
   "execution_count": null,
   "id": "0284dc97",
   "metadata": {
    "name": "question-3-transform-1"
   },
   "outputs": [],
   "source": [
    "tbl_names = tbl_names |> \n",
    "  # Add NEW column first_letter by extracting `first_letter` from name using `str_sub`\n",
    "  mutate(first_letter = str_sub(name, 1, 1)) |>  \n",
    "  # Add NEW column last_letter by extracting `last_letter` from name using `str_sub`\n",
    "  mutate(last_letter = str_sub(name, -1, -1)) |> \n",
    "  # UPDATE column `last_letter` to upper case using `str_to_upper`\n",
    "  mutate(last_letter = str_to_upper(last_letter))\n",
    "\n",
    "tbl_names"
   ]
  },
  {
   "cell_type": "markdown",
   "id": "90a55ebd",
   "metadata": {},
   "source": [
    "Begin by computing the distribution of births across year and sex by first letter of a name."
   ]
  },
  {
   "cell_type": "code",
   "execution_count": null,
   "id": "5b6c9c2b",
   "metadata": {
    "name": "question-3-transform-2"
   },
   "outputs": [],
   "source": [
    "tbl_names_by_letter = tbl_names |> \n",
    "  # Group by year, sex and first_letter\n",
    "  group_by(year, sex, first_letter) |> \n",
    "  # Summarize total number of births, drop the grouping\n",
    "  summarize(nb_births = sum(nb_births), .groups = \"drop\") |> \n",
    "  # Group by year and sex\n",
    "  group_by(year, sex) |> \n",
    "  # Add NEW column pct_births by dividing nb_births by sum(nb_births)\n",
    "  mutate(pct_births = nb_births / sum(nb_births))\n",
    "  \n",
    "tbl_names_by_letter"
   ]
  },
  {
   "cell_type": "markdown",
   "id": "1c68ddb2",
   "metadata": {},
   "source": [
    "#### Visualize\n",
    "\n",
    "Visualize the distribution of births by first letter for the year 2020, faceted by sex."
   ]
  },
  {
   "cell_type": "code",
   "execution_count": null,
   "id": "bdc0bec6",
   "metadata": {
    "name": "question-3-visualize-1"
   },
   "outputs": [],
   "source": [
    "tbl_names_by_letter |> \n",
    "  # Filter for the year 2020\n",
    "  filter(year == 2020) |> \n",
    "  # Initialize a ggplot of pct_births vs. first_letter\n",
    "  ggplot(aes(x = first_letter, y = pct_births)) +\n",
    "  # Add a column layer using `geom_col()`\n",
    "  geom_col() +\n",
    "  # Facet wrap plot by sex\n",
    "  facet_wrap(~ sex) +\n",
    "  # Add labels (title, x, y)\n",
    "  labs(\n",
    "    title = 'Distribution of Names by First Letter',\n",
    "    subtitle = 'A is the most popular first letter for Females',\n",
    "    x = '% Births',\n",
    "    y = 'First Letter',\n",
    "    \n",
    "  ) +\n",
    "  # Fix scales of y axis\n",
    "  scale_y_continuous(\n",
    "    expand = c(0, 0),\n",
    "    labels = scales::percent_format(accuracy = 1L)\n",
    "  ) +\n",
    "  # Update plotting theme\n",
    "  theme(\n",
    "    plot.title.position = \"plot\",\n",
    "    axis.ticks.x = element_blank(),\n",
    "    panel.grid.major.x = element_blank()\n",
    "  )"
   ]
  },
  {
   "cell_type": "markdown",
   "id": "2e944862",
   "metadata": {},
   "source": [
    "Write a function that plot trends in the percentage of births for all names starting with a specific first letter."
   ]
  },
  {
   "cell_type": "code",
   "execution_count": null,
   "id": "35f7ab81",
   "metadata": {
    "name": "question-3-visualize-2"
   },
   "outputs": [],
   "source": [
    "plot_trends_in_letter <- function(my_letter) {\n",
    "  tbl_names_by_letter |> \n",
    "    # Filter for first_letter = my_letter\n",
    "    filter(first_letter == my_letter) |> \n",
    "    # Initialize a gpglot of pct_births vs. year colored by sex\n",
    "    ggplot(aes(x = year, y = pct_births, color = sex)) +\n",
    "    # Add a line layer\n",
    "    geom_line() +\n",
    "    # Add labels (title, subtitle, caption, x, y)\n",
    "    labs(\n",
    "      title = glue::glue(\"Trends in Names beginning with {my_letter}\"),\n",
    "      subtitle = \"Names beginning with an A started trending in the 1960s\",\n",
    "      caption = \"Source: SSA\",\n",
    "      x = NULL,\n",
    "      y = '% Births'\n",
    "    ) +\n",
    "    # Update y-axis scales to display percentages\n",
    "    scale_y_continuous(labels = scales::percent_format()) +\n",
    "    # Update theme\n",
    "    theme(plot.title.position = \"plot\")\n",
    "}\n",
    "\n",
    "plot_trends_in_letter(\"S\")"
   ]
  },
  {
   "cell_type": "markdown",
   "id": "626b23b2",
   "metadata": {},
   "source": [
    "----\n",
    "**Bonus**\n",
    "\n",
    "How do these plots change when you focus on the `last_letter` instead of the `first_letter`. Feel free to go back and change `first_letter` to \n",
    "`last_letter` and see what you find. Try to make an educated guess before you run the code, so you can see if your intuition matches up!\n",
    "----\n",
    "\n",
    "### Question 4: [Unveiling Letter Combinations] What secrets do the most popular letter combinations hold?\n",
    "\n",
    "Are you ready to explore the fascinating realm of letter combinations in names? This question will guide you through the process of analyzing the joint distribution of births by first and last letters. By examining these intriguing patterns, you'll be able to unveil the most popular letter combinations and how they have evolved over the years.\n",
    "\n",
    "#### Transform"
   ]
  },
  {
   "cell_type": "code",
   "execution_count": null,
   "id": "692a4983",
   "metadata": {
    "lines_to_next_cell": 2,
    "name": "question-4-transform"
   },
   "outputs": [],
   "source": [
    "tbl_names_by_first_and_last_letter = tbl_names |> \n",
    "  # Filter for sex = \"F\"\n",
    "  filter(sex == \"F\") |> \n",
    "  # Group by `first_letter`, `last_letter`, and `year`\n",
    "  group_by(first_letter, last_letter, year) |> \n",
    "  # Summarize total number of births\n",
    "  summarize(\n",
    "    nb_births = sum(nb_births), \n",
    "    .groups = 'drop'\n",
    "  ) |> \n",
    "  # Group by `year`\n",
    "  group_by(year) |> \n",
    "  # Add NEW column pct_births by dividing nb_births by sum(nb_births)\n",
    "  mutate(pct_births = nb_births / sum(nb_births)) |> \n",
    "  # Ungroup data\n",
    "  ungroup()\n",
    "\n",
    "tbl_names_by_first_and_last_letter"
   ]
  },
  {
   "cell_type": "markdown",
   "id": "1549272d",
   "metadata": {},
   "source": [
    "#### Visualize\n",
    "\n",
    "Now, you will visualize the distribution of `pct_births` by `last_letter` and `first_letter` by plotting a heatmap of the percentage of births by first letter and last letter for the year 2021."
   ]
  },
  {
   "cell_type": "code",
   "execution_count": null,
   "id": "3f2ce758",
   "metadata": {
    "name": "question-4-visualize"
   },
   "outputs": [],
   "source": [
    "tbl_names_by_first_and_last_letter |> \n",
    "  # Filter for the year 2021\n",
    "  filter(year == 2021) |> \n",
    "  # Initialize a ggplot of last_letter vs. first_letter\n",
    "  ggplot(aes(x = first_letter, y = last_letter)) +\n",
    "  # Add a `geom_tile` layer with fill mapped to pct_births\n",
    "  geom_tile(aes( fill = pct_births), color = 'gray') +\n",
    "  # Add labels (title, subtitle, x, y, fill)\n",
    "  labs(\n",
    "    title=\"Distribution of Names by First and Last Letters in 2020\",\n",
    "    subtitle = 'AA is the most popular combination in 2020', \n",
    "    x = 'First Letter',\n",
    "    y = 'Last Letter',\n",
    "    fill = '% Births'\n",
    "  ) +\n",
    "  # Update fill scale to use Viridis colors\n",
    "  scale_fill_viridis_b(direction = -1) +\n",
    "  # Update plotting theme\n",
    "  theme(\n",
    "    plot.title.position = \"plot\",\n",
    "    panel.grid = element_blank(),\n",
    "    axis.ticks = element_blank()\n",
    "  )"
   ]
  },
  {
   "cell_type": "markdown",
   "id": "a34b257b",
   "metadata": {},
   "source": [
    "### Question 5: [Vowels vs Consonants] Are there naming trends in usage of vowels and consonants?\n",
    "\n",
    "Do certain combinations of vowels and consonants tend to appear more often in names? Are there any notable changes in these patterns over the years? In this question, we'll explore the fascinating world of vowel and consonant usage in names across time. This can help us understand how the structure of names has evolved and what factors may have influenced these changes. By diving into these linguistic aspects, you'll gain a greater appreciation for the intricacies and diversity of names in our dataset. Let's dive in and uncover the trends in the usage of vowels and consonants!\n",
    "\n",
    "#### Transform\n",
    "\n",
    "In this step, you will create a function to identify whether a letter is a vowel or a consonant. Then, you will use this function to categorize the first and last letters in names as either vowels or consonants. After that, you will group the data by sex, year, and letter type (vowel or consonant) to calculate the percentage of births for each combination of first and last letter types."
   ]
  },
  {
   "cell_type": "code",
   "execution_count": null,
   "id": "72225e7a",
   "metadata": {
    "name": "question-5-transform"
   },
   "outputs": [],
   "source": [
    "get_letter_type <- function(letter) {\n",
    "  VOWELS <- c(\"A\", \"E\", \"I\", \"O\", \"U\")\n",
    "  ifelse(letter %in% VOWELS, 'vowel', 'consonant')\n",
    "}\n",
    "\n",
    "tbl_names_vowel_consonant <- tbl_names |> \n",
    "  # Add NEW column named `first_letter_type`\n",
    "  mutate(first_letter_type = get_letter_type(first_letter)) |> \n",
    "  # Add NEW column named `last_letter_type`\n",
    "  mutate(last_letter_type = get_letter_type(last_letter)) |> \n",
    "  # Group by `sex`, `year`, `first_letter_type` and `last_letter_type`\n",
    "  group_by(sex, year, first_letter_type, last_letter_type) |> \n",
    "  # Summarize the total number of births\n",
    "  summarize(\n",
    "    nb_births = sum(nb_births),\n",
    "    .groups = \"drop\"\n",
    "  ) |> \n",
    "  # Group by `sex` and` `year`\n",
    "  group_by(sex, year) |> \n",
    "  # Add NEW column with `pct_births` calculated as `nb_births / sum(nb_births)`\n",
    "  mutate(pct_births = nb_births / sum(nb_births)) |> \n",
    "  # Ungroup the data\n",
    "  ungroup() |> \n",
    "  # Unite `first_letter_type` and `last_letter_type` into a NEW column named `first_last`\n",
    "  unite(first_last, c(first_letter_type, last_letter_type))\n",
    "\n",
    "tbl_names_vowel_consonant"
   ]
  },
  {
   "cell_type": "markdown",
   "id": "6b9b75eb",
   "metadata": {},
   "source": [
    "#### Visualize\n",
    "\n",
    "Now, you will create a visualization to display the trends in the usage of vowels and consonants in names over time. The visualization will show the percentage of births by the combination of first and last letter types, separately for each sex."
   ]
  },
  {
   "cell_type": "code",
   "execution_count": null,
   "id": "3d061362",
   "metadata": {
    "name": "question-5-visualize"
   },
   "outputs": [],
   "source": [
    "tbl_names_vowel_consonant |> \n",
    "  # Reorder `first_last` by th median `pct_births`\n",
    "  mutate(first_last = fct_reorder(first_last, pct_births, median)) |>\n",
    "  # Initialize a ggplot of `pct_births` vs. `year`\n",
    "  ggplot(aes(x = year, y = pct_births)) +\n",
    "  # Add an area layer with fill = first_last\n",
    "  geom_area(aes(fill = first_last)) +\n",
    "  # Facet wrap plot by `sex`\n",
    "  facet_wrap(~ sex) +\n",
    "  # Add labels (title, subtitle, caption, x, y)\n",
    "  labs(\n",
    "    title = \"Trends in First and Last Letters\",\n",
    "    subtitle = '...',\n",
    "    caption = 'Source: SSA',\n",
    "    x = NULL,\n",
    "    y = NULL,\n",
    "    fill = \"\",\n",
    "  ) +\n",
    "  # Clean up x and y axis scales\n",
    "  scale_x_continuous(\n",
    "    expand = c(0, 0)\n",
    "  ) +\n",
    "  scale_y_continuous(\n",
    "    expand = c(0, 0),\n",
    "    labels = scales::percent_format()\n",
    "  ) +\n",
    "  # Use Viridis colors for fill\n",
    "  scale_fill_viridis_d() +\n",
    "  theme(\n",
    "    plot.title.position = 'plot',\n",
    "    legend.position = 'bottom'\n",
    "  )"
   ]
  },
  {
   "cell_type": "markdown",
   "id": "7eff1579",
   "metadata": {},
   "source": [
    "----\n",
    "**Note**\n",
    "\n",
    "The fct_reorder() function is a useful tool for reordering the levels of a factor based on the values of another variable. This function can be particularly helpful when creating visualizations, as it allows you to display data in a more organized and informative manner. In this exercise, fct_reorder() is used to reorder the levels of the first_last factor according to the median of the pct_births variable. By doing so, the resulting plot will show the trends in vowels and consonants usage in a more structured way, making it easier to identify and interpret the patterns.\n",
    "----"
   ]
  },
  {
   "cell_type": "markdown",
   "id": "caa7d3cc",
   "metadata": {},
   "source": [
    "## MORE BONUS\n",
    "\n",
    "You can turn your plots into a beautiful dashboard with minimal effort. An Rmarkdown dashboard template has been provided for you. Open the file [project-01-explore-babynames-flexdashboard.Rmd](project-01-explore-babynames-flexdashboard.Rmd). It has placeholders for code, where you can paste the completed code chunks from this document. Pay close attention to the labels of the chunks referred to.\n"
   ]
  }
 ],
  "nbformat": 4,
  "nbformat_minor": 0,
  "metadata": {
    "colab": {
      "provenance": []
    },
    "kernelspec": {
      "name": "ir",
      "display_name": "R"
    },
    "language_info": {
      "name": "R"
    }
  }
}
